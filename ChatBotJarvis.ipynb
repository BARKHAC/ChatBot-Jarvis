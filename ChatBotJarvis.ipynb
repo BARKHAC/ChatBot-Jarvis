{
  "cells": [
    {
      "cell_type": "markdown",
      "metadata": {
        "id": "view-in-github",
        "colab_type": "text"
      },
      "source": [
        "<a href=\"https://colab.research.google.com/github/BARKHAC/ChatBot-Jarvis/blob/main/ChatBotJarvis.ipynb\" target=\"_parent\"><img src=\"https://colab.research.google.com/assets/colab-badge.svg\" alt=\"Open In Colab\"/></a>"
      ]
    },
    {
      "cell_type": "markdown",
      "metadata": {
        "id": "la7LNlvNY8F6"
      },
      "source": [
        "Libraries"
      ]
    },
    {
      "cell_type": "code",
      "execution_count": null,
      "metadata": {
        "id": "yLAb_Ynj8-ok"
      },
      "outputs": [],
      "source": [
        "import numpy as np"
      ]
    },
    {
      "cell_type": "code",
      "execution_count": null,
      "metadata": {
        "id": "7VajPlCe9CP-"
      },
      "outputs": [],
      "source": [
        "import nltk\n",
        "import string\n",
        "import random"
      ]
    },
    {
      "cell_type": "markdown",
      "metadata": {
        "id": "Z33kD15hY_OF"
      },
      "source": [
        "Importing and reading the corpus (in our case Data Science Wikipedia page)"
      ]
    },
    {
      "cell_type": "code",
      "execution_count": null,
      "metadata": {
        "colab": {
          "base_uri": "https://localhost:8080/"
        },
        "id": "HOsaskQQ9IyH",
        "outputId": "cd22aa50-87ea-4e57-984b-6fcf0a608958"
      },
      "outputs": [
        {
          "name": "stderr",
          "output_type": "stream",
          "text": [
            "[nltk_data] Downloading package punkt to /root/nltk_data...\n",
            "[nltk_data]   Package punkt is already up-to-date!\n",
            "[nltk_data] Downloading package wordnet to /root/nltk_data...\n",
            "[nltk_data]   Package wordnet is already up-to-date!\n"
          ]
        }
      ],
      "source": [
        "f=open('chatbot.txt','r',errors='ignore')\n",
        "raw_doc=f.read()\n",
        "raw_doc=raw_doc.lower() #Convert text to lowercase\n",
        "nltk.download('punkt') #using punkt tokenizer\n",
        "nltk.download('wordnet') #using the wordnet dictionary\n",
        "sent_tokens = nltk.sent_tokenize(raw_doc) #converts doc to list of sentences\n",
        "word_tokens = nltk.word_tokenize(raw_doc) #converts doc to list of words"
      ]
    },
    {
      "cell_type": "markdown",
      "metadata": {
        "id": "rw7qf7YrZTw8"
      },
      "source": [
        "Sentence tokens samples"
      ]
    },
    {
      "cell_type": "code",
      "execution_count": null,
      "metadata": {
        "colab": {
          "base_uri": "https://localhost:8080/"
        },
        "id": "egY2NlnnIL5-",
        "outputId": "5be6f762-05ce-4bb5-a1f6-2a75dba2579e"
      },
      "outputs": [
        {
          "data": {
            "text/plain": [
              "['data science is an interdisciplinary academic field [1] that uses statistics, scientific computing, scientific methods, processes, algorithms and systems to extract or extrapolate knowledge and insights from noisy, structured, and unstructured data.',\n",
              " '[2]\\n\\ndata science also integrates domain knowledge from the underlying application domain (e.g., natural sciences, information technology, and medicine).']"
            ]
          },
          "execution_count": 7,
          "metadata": {},
          "output_type": "execute_result"
        }
      ],
      "source": [
        "sent_tokens[:2]"
      ]
    },
    {
      "cell_type": "markdown",
      "metadata": {
        "id": "dig2EOUnZRbI"
      },
      "source": [
        "Word tokens samples"
      ]
    },
    {
      "cell_type": "code",
      "execution_count": null,
      "metadata": {
        "colab": {
          "base_uri": "https://localhost:8080/"
        },
        "id": "8ahsa4fsIUKb",
        "outputId": "ddc3d150-2795-467a-a6d4-e463d799f4ac"
      },
      "outputs": [
        {
          "data": {
            "text/plain": [
              "['data', 'science']"
            ]
          },
          "execution_count": 8,
          "metadata": {},
          "output_type": "execute_result"
        }
      ],
      "source": [
        "word_tokens[:2]"
      ]
    },
    {
      "cell_type": "markdown",
      "metadata": {
        "id": "TG8sll4QZMO8"
      },
      "source": [
        "Text preprocessing"
      ]
    },
    {
      "cell_type": "code",
      "execution_count": null,
      "metadata": {
        "id": "Mv864Y80IZGF"
      },
      "outputs": [],
      "source": [
        "lemmer=nltk.stem.WordNetLemmatizer()\n",
        "def LemTokens(tokens):\n",
        "  return [lemmer.lemmatize(token) for token in tokens]\n",
        "remove_punct_dict = dict((ord(punct),None) for punct in string.punctuation)\n",
        "def LemNormalize(text):\n",
        "  return LemTokens(nltk.word_tokenize(text.lower().translate(remove_punct_dict)))"
      ]
    },
    {
      "cell_type": "markdown",
      "metadata": {
        "id": "XZV6w8iYMZNg"
      },
      "source": [
        "Define a greeting function"
      ]
    },
    {
      "cell_type": "code",
      "execution_count": null,
      "metadata": {
        "id": "rfAgR32BKoAc"
      },
      "outputs": [],
      "source": [
        "GREET_INPUTS = (\"hello\",\"hi\",\"greetings\",\"sup\",\"what's up\",\"hey\")\n",
        "GREET_RESPONSES = [\"hi\",\"hey\",\"*nods*\",\"hi there\",\"hello\",\"I am glad! You are talking to me\"]\n",
        "def greet(sentence):\n",
        "\n",
        "  for word in sentence.split():\n",
        "    if word.lower() in GREET_INPUTS:\n",
        "      return random.choice(GREET_RESPONSES)"
      ]
    },
    {
      "cell_type": "markdown",
      "metadata": {
        "id": "1L56gHoPZjLb"
      },
      "source": [
        "Response Generation"
      ]
    },
    {
      "cell_type": "code",
      "execution_count": null,
      "metadata": {
        "id": "1vp7hlJ5OG1D"
      },
      "outputs": [],
      "source": [
        "from sklearn.feature_extraction.text import TfidfVectorizer\n",
        "from sklearn.metrics.pairwise import cosine_similarity"
      ]
    },
    {
      "cell_type": "code",
      "execution_count": null,
      "metadata": {
        "id": "5_NFqJocO65q"
      },
      "outputs": [],
      "source": [
        "def response(user_response):\n",
        "  robo1_response=''\n",
        "  TfidVec = TfidfVectorizer(tokenizer=LemNormalize, stop_words='english')\n",
        "  tfidf = TfidVec.fit_transform(sent_tokens)\n",
        "  vals = cosine_similarity(tfidf[-1],tfidf)\n",
        "  idx = vals.argsort()[0][-2]\n",
        "  flat = vals.flatten()\n",
        "  flat.sort()\n",
        "  req_tfidf = flat[-2]\n",
        "  if(req_tfidf==0):\n",
        "    robo1_response = robo1_response+\"I am sorry , I don't understand you\"\n",
        "    return robo1_response\n",
        "  else:\n",
        "    robo1_response = robo1_response+sent_tokens[idx]\n",
        "    return robo1_response"
      ]
    },
    {
      "cell_type": "code",
      "execution_count": null,
      "metadata": {
        "id": "EA2u-U-ffQFL"
      },
      "outputs": [],
      "source": []
    },
    {
      "cell_type": "code",
      "execution_count": null,
      "metadata": {
        "colab": {
          "background_save": true,
          "base_uri": "https://localhost:8080/"
        },
        "id": "mC7He2P0TzYT",
        "outputId": "b8e70fd0-ebeb-43db-84fc-bcd07892aae0"
      },
      "outputs": [
        {
          "name": "stdout",
          "output_type": "stream",
          "text": [
            "BOT: My name is Jarvis. I am here to help you by understanding what you need. If you want to exit the conversation at any time , just type Bye\n",
            "BOT: hi\n",
            "BOT: [9]\n",
            "\n",
            "foundations\n",
            "data science is an interdisciplinary field[10] focused on extracting knowledge from typically large data sets and applying the knowledge and insights from that data to solve problems in a wide range of application domains.\n",
            "BOT: [25] in 1998, hayashi chikio argued for data science as a new, interdisciplinary concept, with three aspects: data design, collection, and analysis.\n",
            "BOT: data science is an interdisciplinary academic field [1] that uses statistics, scientific computing, scientific methods, processes, algorithms and systems to extract or extrapolate knowledge and insights from noisy, structured, and unstructured data.\n",
            "BOT: I am sorry , I don't understand you\n",
            "BOT: [12][13] statistician nathan yau, drawing on ben fry, also links data science to human–computer interaction: users should be able to intuitively control and explore data.\n",
            "BOT: he describes data science as an applied field growing out of traditional statistics.\n",
            "BOT: [21]\n",
            "\n",
            "etymology\n",
            "early usage\n",
            "in 1962, john tukey described a field he called \"data analysis\", which resembles modern data science.\n",
            "BOT: [30]\n",
            "\n",
            "the modern conception of data science as an independent discipline is sometimes attributed to william s.\n",
            "BOT: the fourth paradigm: data-intensive scientific discovery.\n",
            "BOT: data science and its applications.\n",
            "BOT: [2]\n",
            "\n",
            "data science also integrates domain knowledge from the underlying application domain (e.g., natural sciences, information technology, and medicine).\n"
          ]
        }
      ],
      "source": [
        "flag = True\n",
        "print(\"BOT: My name is Jarvis. I am here to help you by understanding what you need. If you want to exit the conversation at any time , just type Bye\")\n",
        "while(flag==True):\n",
        "  user_response=input()\n",
        "  user_response =  user_response.lower()\n",
        "  if(user_response!='bye'):\n",
        "    if(user_response=='thanks' or user_response=='thank you'):\n",
        "      flag=False\n",
        "      print(\"BOT:You are welcome\")\n",
        "    else:\n",
        "        if(greet(user_response)!=None):\n",
        "          print(\"BOT: \"+greet(user_response))\n",
        "        else:\n",
        "          sent_tokens.append(user_response)\n",
        "          word_tokens=word_tokens+nltk.word_tokenize(user_response)\n",
        "          final_words=list(set(word_tokens))\n",
        "          print(\"BOT: \",end=\"\")\n",
        "          print(response(user_response))\n",
        "          sent_tokens.remove(user_response)\n",
        "  else:\n",
        "    flag=False\n",
        "    print(\"BOT: Goodbye! Take Care\")"
      ]
    },
    {
      "cell_type": "markdown",
      "metadata": {
        "id": "mEptVourfFBG"
      },
      "source": []
    }
  ],
  "metadata": {
    "colab": {
      "toc_visible": true,
      "provenance": [],
      "authorship_tag": "ABX9TyMNdMCMa2EcyTlyt6ya4bre",
      "include_colab_link": true
    },
    "kernelspec": {
      "display_name": "Python 3",
      "name": "python3"
    },
    "language_info": {
      "name": "python"
    }
  },
  "nbformat": 4,
  "nbformat_minor": 0
}